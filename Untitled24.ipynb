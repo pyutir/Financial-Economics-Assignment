{
 "cells": [
  {
   "cell_type": "markdown",
   "metadata": {},
   "source": [
    "FINANCIAL ECONOMICS ASSIGNMENT III\n",
    "\n",
    "Name- Ritu Parashar, \n",
    "20617019, \n",
    "M.Sc Economics, \n",
    "II year, \n",
    "III Semester"
   ]
  },
  {
   "cell_type": "code",
   "execution_count": 2,
   "metadata": {},
   "outputs": [],
   "source": [
    "# Importing Libraries\n",
    "import pandas as pd\n",
    "import numpy as np\n",
    "import matplotlib.pyplot as plt\n",
    "%matplotlib inline"
   ]
  },
  {
   "cell_type": "code",
   "execution_count": 3,
   "metadata": {},
   "outputs": [],
   "source": [
    "from scipy.stats import skew"
   ]
  },
  {
   "cell_type": "code",
   "execution_count": 4,
   "metadata": {},
   "outputs": [],
   "source": [
    "from scipy.stats import kurtosis"
   ]
  },
  {
   "cell_type": "code",
   "execution_count": 5,
   "metadata": {},
   "outputs": [],
   "source": [
    "hdfc_2011 = pd.read_csv('C:/Users/Lenovo/Downloads/18-10-2011-TO-17-10-2012HDFCALLN.csv')"
   ]
  },
  {
   "cell_type": "code",
   "execution_count": 6,
   "metadata": {},
   "outputs": [
    {
     "data": {
      "text/html": [
       "<div>\n",
       "<style scoped>\n",
       "    .dataframe tbody tr th:only-of-type {\n",
       "        vertical-align: middle;\n",
       "    }\n",
       "\n",
       "    .dataframe tbody tr th {\n",
       "        vertical-align: top;\n",
       "    }\n",
       "\n",
       "    .dataframe thead th {\n",
       "        text-align: right;\n",
       "    }\n",
       "</style>\n",
       "<table border=\"1\" class=\"dataframe\">\n",
       "  <thead>\n",
       "    <tr style=\"text-align: right;\">\n",
       "      <th></th>\n",
       "      <th>Symbol</th>\n",
       "      <th>Series</th>\n",
       "      <th>Date</th>\n",
       "      <th>Prev Close</th>\n",
       "      <th>Open Price</th>\n",
       "      <th>High Price</th>\n",
       "      <th>Low Price</th>\n",
       "      <th>Last Price</th>\n",
       "      <th>Close Price</th>\n",
       "      <th>Average Price</th>\n",
       "      <th>Total Traded Quantity</th>\n",
       "      <th>Turnover</th>\n",
       "      <th>No. of Trades</th>\n",
       "      <th>Deliverable Qty</th>\n",
       "      <th>% Dly Qt to Traded Qty</th>\n",
       "    </tr>\n",
       "  </thead>\n",
       "  <tbody>\n",
       "    <tr>\n",
       "      <th>0</th>\n",
       "      <td>HDFC</td>\n",
       "      <td>EQ</td>\n",
       "      <td>18-Oct-2011</td>\n",
       "      <td>673.45</td>\n",
       "      <td>668.70</td>\n",
       "      <td>677.65</td>\n",
       "      <td>664.65</td>\n",
       "      <td>674.45</td>\n",
       "      <td>673.80</td>\n",
       "      <td>673.21</td>\n",
       "      <td>2323693</td>\n",
       "      <td>1.564323e+09</td>\n",
       "      <td>26976</td>\n",
       "      <td>1650329</td>\n",
       "      <td>71.02</td>\n",
       "    </tr>\n",
       "    <tr>\n",
       "      <th>1</th>\n",
       "      <td>HDFC</td>\n",
       "      <td>W1</td>\n",
       "      <td>18-Oct-2011</td>\n",
       "      <td>105.90</td>\n",
       "      <td>107.00</td>\n",
       "      <td>107.50</td>\n",
       "      <td>104.45</td>\n",
       "      <td>107.50</td>\n",
       "      <td>106.15</td>\n",
       "      <td>105.80</td>\n",
       "      <td>96200</td>\n",
       "      <td>1.017796e+07</td>\n",
       "      <td>51</td>\n",
       "      <td>48100</td>\n",
       "      <td>50.00</td>\n",
       "    </tr>\n",
       "    <tr>\n",
       "      <th>2</th>\n",
       "      <td>HDFC</td>\n",
       "      <td>EQ</td>\n",
       "      <td>19-Oct-2011</td>\n",
       "      <td>673.80</td>\n",
       "      <td>679.90</td>\n",
       "      <td>679.90</td>\n",
       "      <td>669.75</td>\n",
       "      <td>674.15</td>\n",
       "      <td>673.95</td>\n",
       "      <td>673.63</td>\n",
       "      <td>2981665</td>\n",
       "      <td>2.008533e+09</td>\n",
       "      <td>39526</td>\n",
       "      <td>2293613</td>\n",
       "      <td>76.92</td>\n",
       "    </tr>\n",
       "    <tr>\n",
       "      <th>3</th>\n",
       "      <td>HDFC</td>\n",
       "      <td>W1</td>\n",
       "      <td>19-Oct-2011</td>\n",
       "      <td>106.15</td>\n",
       "      <td>106.75</td>\n",
       "      <td>109.25</td>\n",
       "      <td>106.75</td>\n",
       "      <td>108.00</td>\n",
       "      <td>108.85</td>\n",
       "      <td>108.12</td>\n",
       "      <td>109150</td>\n",
       "      <td>1.180124e+07</td>\n",
       "      <td>57</td>\n",
       "      <td>49950</td>\n",
       "      <td>45.76</td>\n",
       "    </tr>\n",
       "    <tr>\n",
       "      <th>4</th>\n",
       "      <td>HDFC</td>\n",
       "      <td>EQ</td>\n",
       "      <td>20-Oct-2011</td>\n",
       "      <td>673.95</td>\n",
       "      <td>669.75</td>\n",
       "      <td>669.75</td>\n",
       "      <td>638.20</td>\n",
       "      <td>646.30</td>\n",
       "      <td>644.95</td>\n",
       "      <td>645.62</td>\n",
       "      <td>5542653</td>\n",
       "      <td>3.578472e+09</td>\n",
       "      <td>70406</td>\n",
       "      <td>3492830</td>\n",
       "      <td>63.02</td>\n",
       "    </tr>\n",
       "  </tbody>\n",
       "</table>\n",
       "</div>"
      ],
      "text/plain": [
       "  Symbol Series         Date  Prev Close  Open Price  High Price  Low Price  \\\n",
       "0   HDFC     EQ  18-Oct-2011      673.45      668.70      677.65     664.65   \n",
       "1   HDFC     W1  18-Oct-2011      105.90      107.00      107.50     104.45   \n",
       "2   HDFC     EQ  19-Oct-2011      673.80      679.90      679.90     669.75   \n",
       "3   HDFC     W1  19-Oct-2011      106.15      106.75      109.25     106.75   \n",
       "4   HDFC     EQ  20-Oct-2011      673.95      669.75      669.75     638.20   \n",
       "\n",
       "   Last Price  Close Price  Average Price  Total Traded Quantity  \\\n",
       "0      674.45       673.80         673.21                2323693   \n",
       "1      107.50       106.15         105.80                  96200   \n",
       "2      674.15       673.95         673.63                2981665   \n",
       "3      108.00       108.85         108.12                 109150   \n",
       "4      646.30       644.95         645.62                5542653   \n",
       "\n",
       "       Turnover  No. of Trades  Deliverable Qty  % Dly Qt to Traded Qty  \n",
       "0  1.564323e+09          26976          1650329                   71.02  \n",
       "1  1.017796e+07             51            48100                   50.00  \n",
       "2  2.008533e+09          39526          2293613                   76.92  \n",
       "3  1.180124e+07             57            49950                   45.76  \n",
       "4  3.578472e+09          70406          3492830                   63.02  "
      ]
     },
     "execution_count": 6,
     "metadata": {},
     "output_type": "execute_result"
    }
   ],
   "source": [
    "hdfc_2011.head()"
   ]
  },
  {
   "cell_type": "code",
   "execution_count": 7,
   "metadata": {},
   "outputs": [],
   "source": [
    "hdfc_2012 = pd.read_csv('C:/Users/Lenovo/Downloads/18-10-2012-TO-17-10-2013HDFCALLN.csv')\n",
    "hdfc_2013 = pd.read_csv('C:/Users/Lenovo/Downloads/18-10-2013-TO-17-10-2014HDFCALLN.csv')\n",
    "hdfc_2014 = pd.read_csv('C:/Users/Lenovo/Downloads/18-10-2014-TO-17-10-2015HDFCALLN.csv')\n",
    "hdfc_2015 = pd.read_csv('C:/Users/Lenovo/Downloads/18-10-2015-TO-17-10-2016HDFCALLN.csv')\n",
    "hdfc_2016 = pd.read_csv('C:/Users/Lenovo/Downloads/18-10-2016-TO-17-10-2017HDFCALLN.csv')\n",
    "hdfc_2017 = pd.read_csv('C:/Users/Lenovo/Downloads/18-10-2017-TO-17-10-2018HDFCALLN.csv')\n",
    "hdfc_2018 = pd.read_csv('C:/Users/Lenovo/Downloads/18-10-2018-TO-17-10-2019HDFCALLN.csv')\n",
    "hdfc_2019 = pd.read_csv('C:/Users/Lenovo/Downloads/18-10-2019-TO-17-10-2020HDFCALLN.csv')\n",
    "hdfc_2020 = pd.read_csv('C:/Users/Lenovo/Downloads/18-10-2020-TO-17-10-2021HDFCALLN.csv')"
   ]
  },
  {
   "cell_type": "code",
   "execution_count": 8,
   "metadata": {},
   "outputs": [],
   "source": [
    "# We just imported all data and converted them into dataframes"
   ]
  },
  {
   "cell_type": "code",
   "execution_count": 9,
   "metadata": {},
   "outputs": [],
   "source": [
    "# Now combining all these dataframes into one dataframe"
   ]
  },
  {
   "cell_type": "code",
   "execution_count": 10,
   "metadata": {},
   "outputs": [],
   "source": [
    "hdfc_data = pd.concat([hdfc_2011,hdfc_2012,hdfc_2013,hdfc_2014,\n",
    "                       hdfc_2015,hdfc_2016,hdfc_2017,hdfc_2018,hdfc_2019,hdfc_2020],axis = 0)"
   ]
  },
  {
   "cell_type": "code",
   "execution_count": 11,
   "metadata": {},
   "outputs": [
    {
     "data": {
      "text/html": [
       "<div>\n",
       "<style scoped>\n",
       "    .dataframe tbody tr th:only-of-type {\n",
       "        vertical-align: middle;\n",
       "    }\n",
       "\n",
       "    .dataframe tbody tr th {\n",
       "        vertical-align: top;\n",
       "    }\n",
       "\n",
       "    .dataframe thead th {\n",
       "        text-align: right;\n",
       "    }\n",
       "</style>\n",
       "<table border=\"1\" class=\"dataframe\">\n",
       "  <thead>\n",
       "    <tr style=\"text-align: right;\">\n",
       "      <th></th>\n",
       "      <th>Symbol</th>\n",
       "      <th>Series</th>\n",
       "      <th>Date</th>\n",
       "      <th>Prev Close</th>\n",
       "      <th>Open Price</th>\n",
       "      <th>High Price</th>\n",
       "      <th>Low Price</th>\n",
       "      <th>Last Price</th>\n",
       "      <th>Close Price</th>\n",
       "      <th>Average Price</th>\n",
       "      <th>Total Traded Quantity</th>\n",
       "      <th>Turnover</th>\n",
       "      <th>No. of Trades</th>\n",
       "      <th>Deliverable Qty</th>\n",
       "      <th>% Dly Qt to Traded Qty</th>\n",
       "    </tr>\n",
       "  </thead>\n",
       "  <tbody>\n",
       "    <tr>\n",
       "      <th>0</th>\n",
       "      <td>HDFC</td>\n",
       "      <td>EQ</td>\n",
       "      <td>18-Oct-2011</td>\n",
       "      <td>673.45</td>\n",
       "      <td>668.70</td>\n",
       "      <td>677.65</td>\n",
       "      <td>664.65</td>\n",
       "      <td>674.45</td>\n",
       "      <td>673.80</td>\n",
       "      <td>673.21</td>\n",
       "      <td>2323693</td>\n",
       "      <td>1.564323e+09</td>\n",
       "      <td>26976</td>\n",
       "      <td>1650329</td>\n",
       "      <td>71.02</td>\n",
       "    </tr>\n",
       "    <tr>\n",
       "      <th>1</th>\n",
       "      <td>HDFC</td>\n",
       "      <td>W1</td>\n",
       "      <td>18-Oct-2011</td>\n",
       "      <td>105.90</td>\n",
       "      <td>107.00</td>\n",
       "      <td>107.50</td>\n",
       "      <td>104.45</td>\n",
       "      <td>107.50</td>\n",
       "      <td>106.15</td>\n",
       "      <td>105.80</td>\n",
       "      <td>96200</td>\n",
       "      <td>1.017796e+07</td>\n",
       "      <td>51</td>\n",
       "      <td>48100</td>\n",
       "      <td>50</td>\n",
       "    </tr>\n",
       "    <tr>\n",
       "      <th>2</th>\n",
       "      <td>HDFC</td>\n",
       "      <td>EQ</td>\n",
       "      <td>19-Oct-2011</td>\n",
       "      <td>673.80</td>\n",
       "      <td>679.90</td>\n",
       "      <td>679.90</td>\n",
       "      <td>669.75</td>\n",
       "      <td>674.15</td>\n",
       "      <td>673.95</td>\n",
       "      <td>673.63</td>\n",
       "      <td>2981665</td>\n",
       "      <td>2.008533e+09</td>\n",
       "      <td>39526</td>\n",
       "      <td>2293613</td>\n",
       "      <td>76.92</td>\n",
       "    </tr>\n",
       "    <tr>\n",
       "      <th>3</th>\n",
       "      <td>HDFC</td>\n",
       "      <td>W1</td>\n",
       "      <td>19-Oct-2011</td>\n",
       "      <td>106.15</td>\n",
       "      <td>106.75</td>\n",
       "      <td>109.25</td>\n",
       "      <td>106.75</td>\n",
       "      <td>108.00</td>\n",
       "      <td>108.85</td>\n",
       "      <td>108.12</td>\n",
       "      <td>109150</td>\n",
       "      <td>1.180124e+07</td>\n",
       "      <td>57</td>\n",
       "      <td>49950</td>\n",
       "      <td>45.76</td>\n",
       "    </tr>\n",
       "    <tr>\n",
       "      <th>4</th>\n",
       "      <td>HDFC</td>\n",
       "      <td>EQ</td>\n",
       "      <td>20-Oct-2011</td>\n",
       "      <td>673.95</td>\n",
       "      <td>669.75</td>\n",
       "      <td>669.75</td>\n",
       "      <td>638.20</td>\n",
       "      <td>646.30</td>\n",
       "      <td>644.95</td>\n",
       "      <td>645.62</td>\n",
       "      <td>5542653</td>\n",
       "      <td>3.578472e+09</td>\n",
       "      <td>70406</td>\n",
       "      <td>3492830</td>\n",
       "      <td>63.02</td>\n",
       "    </tr>\n",
       "  </tbody>\n",
       "</table>\n",
       "</div>"
      ],
      "text/plain": [
       "  Symbol Series         Date  Prev Close  Open Price  High Price  Low Price  \\\n",
       "0   HDFC     EQ  18-Oct-2011      673.45      668.70      677.65     664.65   \n",
       "1   HDFC     W1  18-Oct-2011      105.90      107.00      107.50     104.45   \n",
       "2   HDFC     EQ  19-Oct-2011      673.80      679.90      679.90     669.75   \n",
       "3   HDFC     W1  19-Oct-2011      106.15      106.75      109.25     106.75   \n",
       "4   HDFC     EQ  20-Oct-2011      673.95      669.75      669.75     638.20   \n",
       "\n",
       "   Last Price  Close Price  Average Price  Total Traded Quantity  \\\n",
       "0      674.45       673.80         673.21                2323693   \n",
       "1      107.50       106.15         105.80                  96200   \n",
       "2      674.15       673.95         673.63                2981665   \n",
       "3      108.00       108.85         108.12                 109150   \n",
       "4      646.30       644.95         645.62                5542653   \n",
       "\n",
       "       Turnover  No. of Trades Deliverable Qty % Dly Qt to Traded Qty  \n",
       "0  1.564323e+09          26976         1650329                  71.02  \n",
       "1  1.017796e+07             51           48100                     50  \n",
       "2  2.008533e+09          39526         2293613                  76.92  \n",
       "3  1.180124e+07             57           49950                  45.76  \n",
       "4  3.578472e+09          70406         3492830                  63.02  "
      ]
     },
     "execution_count": 11,
     "metadata": {},
     "output_type": "execute_result"
    }
   ],
   "source": [
    "hdfc_data.head()"
   ]
  },
  {
   "cell_type": "code",
   "execution_count": 12,
   "metadata": {},
   "outputs": [],
   "source": [
    "# HDFC DATA for EQ Series"
   ]
  },
  {
   "cell_type": "code",
   "execution_count": 13,
   "metadata": {},
   "outputs": [],
   "source": [
    "hdfc_data = hdfc_data[hdfc_data['Series'] == 'EQ']"
   ]
  },
  {
   "cell_type": "code",
   "execution_count": 14,
   "metadata": {},
   "outputs": [],
   "source": [
    "# Now this dataframe hdfc contains the data only for EQ series"
   ]
  },
  {
   "cell_type": "code",
   "execution_count": 15,
   "metadata": {},
   "outputs": [
    {
     "data": {
      "text/html": [
       "<div>\n",
       "<style scoped>\n",
       "    .dataframe tbody tr th:only-of-type {\n",
       "        vertical-align: middle;\n",
       "    }\n",
       "\n",
       "    .dataframe tbody tr th {\n",
       "        vertical-align: top;\n",
       "    }\n",
       "\n",
       "    .dataframe thead th {\n",
       "        text-align: right;\n",
       "    }\n",
       "</style>\n",
       "<table border=\"1\" class=\"dataframe\">\n",
       "  <thead>\n",
       "    <tr style=\"text-align: right;\">\n",
       "      <th></th>\n",
       "      <th>Symbol</th>\n",
       "      <th>Series</th>\n",
       "      <th>Date</th>\n",
       "      <th>Prev Close</th>\n",
       "      <th>Open Price</th>\n",
       "      <th>High Price</th>\n",
       "      <th>Low Price</th>\n",
       "      <th>Last Price</th>\n",
       "      <th>Close Price</th>\n",
       "      <th>Average Price</th>\n",
       "      <th>Total Traded Quantity</th>\n",
       "      <th>Turnover</th>\n",
       "      <th>No. of Trades</th>\n",
       "      <th>Deliverable Qty</th>\n",
       "      <th>% Dly Qt to Traded Qty</th>\n",
       "    </tr>\n",
       "  </thead>\n",
       "  <tbody>\n",
       "    <tr>\n",
       "      <th>0</th>\n",
       "      <td>HDFC</td>\n",
       "      <td>EQ</td>\n",
       "      <td>18-Oct-2011</td>\n",
       "      <td>673.45</td>\n",
       "      <td>668.70</td>\n",
       "      <td>677.65</td>\n",
       "      <td>664.65</td>\n",
       "      <td>674.45</td>\n",
       "      <td>673.80</td>\n",
       "      <td>673.21</td>\n",
       "      <td>2323693</td>\n",
       "      <td>1.564323e+09</td>\n",
       "      <td>26976</td>\n",
       "      <td>1650329</td>\n",
       "      <td>71.02</td>\n",
       "    </tr>\n",
       "    <tr>\n",
       "      <th>2</th>\n",
       "      <td>HDFC</td>\n",
       "      <td>EQ</td>\n",
       "      <td>19-Oct-2011</td>\n",
       "      <td>673.80</td>\n",
       "      <td>679.90</td>\n",
       "      <td>679.90</td>\n",
       "      <td>669.75</td>\n",
       "      <td>674.15</td>\n",
       "      <td>673.95</td>\n",
       "      <td>673.63</td>\n",
       "      <td>2981665</td>\n",
       "      <td>2.008533e+09</td>\n",
       "      <td>39526</td>\n",
       "      <td>2293613</td>\n",
       "      <td>76.92</td>\n",
       "    </tr>\n",
       "    <tr>\n",
       "      <th>4</th>\n",
       "      <td>HDFC</td>\n",
       "      <td>EQ</td>\n",
       "      <td>20-Oct-2011</td>\n",
       "      <td>673.95</td>\n",
       "      <td>669.75</td>\n",
       "      <td>669.75</td>\n",
       "      <td>638.20</td>\n",
       "      <td>646.30</td>\n",
       "      <td>644.95</td>\n",
       "      <td>645.62</td>\n",
       "      <td>5542653</td>\n",
       "      <td>3.578472e+09</td>\n",
       "      <td>70406</td>\n",
       "      <td>3492830</td>\n",
       "      <td>63.02</td>\n",
       "    </tr>\n",
       "    <tr>\n",
       "      <th>6</th>\n",
       "      <td>HDFC</td>\n",
       "      <td>EQ</td>\n",
       "      <td>21-Oct-2011</td>\n",
       "      <td>644.95</td>\n",
       "      <td>647.00</td>\n",
       "      <td>649.70</td>\n",
       "      <td>630.00</td>\n",
       "      <td>636.85</td>\n",
       "      <td>633.40</td>\n",
       "      <td>637.08</td>\n",
       "      <td>3474173</td>\n",
       "      <td>2.213317e+09</td>\n",
       "      <td>65577</td>\n",
       "      <td>2188596</td>\n",
       "      <td>63</td>\n",
       "    </tr>\n",
       "    <tr>\n",
       "      <th>8</th>\n",
       "      <td>HDFC</td>\n",
       "      <td>EQ</td>\n",
       "      <td>24-Oct-2011</td>\n",
       "      <td>633.40</td>\n",
       "      <td>644.00</td>\n",
       "      <td>648.00</td>\n",
       "      <td>634.35</td>\n",
       "      <td>640.30</td>\n",
       "      <td>640.50</td>\n",
       "      <td>641.91</td>\n",
       "      <td>3512753</td>\n",
       "      <td>2.254876e+09</td>\n",
       "      <td>79444</td>\n",
       "      <td>2704150</td>\n",
       "      <td>76.98</td>\n",
       "    </tr>\n",
       "  </tbody>\n",
       "</table>\n",
       "</div>"
      ],
      "text/plain": [
       "  Symbol Series         Date  Prev Close  Open Price  High Price  Low Price  \\\n",
       "0   HDFC     EQ  18-Oct-2011      673.45      668.70      677.65     664.65   \n",
       "2   HDFC     EQ  19-Oct-2011      673.80      679.90      679.90     669.75   \n",
       "4   HDFC     EQ  20-Oct-2011      673.95      669.75      669.75     638.20   \n",
       "6   HDFC     EQ  21-Oct-2011      644.95      647.00      649.70     630.00   \n",
       "8   HDFC     EQ  24-Oct-2011      633.40      644.00      648.00     634.35   \n",
       "\n",
       "   Last Price  Close Price  Average Price  Total Traded Quantity  \\\n",
       "0      674.45       673.80         673.21                2323693   \n",
       "2      674.15       673.95         673.63                2981665   \n",
       "4      646.30       644.95         645.62                5542653   \n",
       "6      636.85       633.40         637.08                3474173   \n",
       "8      640.30       640.50         641.91                3512753   \n",
       "\n",
       "       Turnover  No. of Trades Deliverable Qty % Dly Qt to Traded Qty  \n",
       "0  1.564323e+09          26976         1650329                  71.02  \n",
       "2  2.008533e+09          39526         2293613                  76.92  \n",
       "4  3.578472e+09          70406         3492830                  63.02  \n",
       "6  2.213317e+09          65577         2188596                     63  \n",
       "8  2.254876e+09          79444         2704150                  76.98  "
      ]
     },
     "execution_count": 15,
     "metadata": {},
     "output_type": "execute_result"
    }
   ],
   "source": [
    "hdfc_data.head()"
   ]
  },
  {
   "cell_type": "code",
   "execution_count": 16,
   "metadata": {},
   "outputs": [],
   "source": [
    "# Now from this dataframe we will drop all the columns except for the columns with column heading date, close price\n",
    "# previous price"
   ]
  },
  {
   "cell_type": "code",
   "execution_count": 17,
   "metadata": {},
   "outputs": [
    {
     "data": {
      "text/plain": [
       "Index(['Symbol', 'Series', 'Date', 'Prev Close', 'Open Price', 'High Price',\n",
       "       'Low Price', 'Last Price', 'Close Price', 'Average Price',\n",
       "       'Total Traded Quantity', 'Turnover', 'No. of Trades', 'Deliverable Qty',\n",
       "       '% Dly Qt to Traded Qty'],\n",
       "      dtype='object')"
      ]
     },
     "execution_count": 17,
     "metadata": {},
     "output_type": "execute_result"
    }
   ],
   "source": [
    "hdfc_data.columns"
   ]
  },
  {
   "cell_type": "code",
   "execution_count": 18,
   "metadata": {},
   "outputs": [],
   "source": [
    "hdfc_data.drop(['Symbol', 'Series', 'Open Price', 'High Price','Low Price', 'Last Price', 'Average Price',\n",
    "                   'Total Traded Quantity', 'Turnover', 'No. of Trades', 'Deliverable Qty',\n",
    "                '% Dly Qt to Traded Qty'], axis = 1, inplace = True)"
   ]
  },
  {
   "cell_type": "code",
   "execution_count": 19,
   "metadata": {},
   "outputs": [
    {
     "data": {
      "text/html": [
       "<div>\n",
       "<style scoped>\n",
       "    .dataframe tbody tr th:only-of-type {\n",
       "        vertical-align: middle;\n",
       "    }\n",
       "\n",
       "    .dataframe tbody tr th {\n",
       "        vertical-align: top;\n",
       "    }\n",
       "\n",
       "    .dataframe thead th {\n",
       "        text-align: right;\n",
       "    }\n",
       "</style>\n",
       "<table border=\"1\" class=\"dataframe\">\n",
       "  <thead>\n",
       "    <tr style=\"text-align: right;\">\n",
       "      <th></th>\n",
       "      <th>Date</th>\n",
       "      <th>Prev Close</th>\n",
       "      <th>Close Price</th>\n",
       "    </tr>\n",
       "  </thead>\n",
       "  <tbody>\n",
       "    <tr>\n",
       "      <th>0</th>\n",
       "      <td>18-Oct-2011</td>\n",
       "      <td>673.45</td>\n",
       "      <td>673.80</td>\n",
       "    </tr>\n",
       "    <tr>\n",
       "      <th>2</th>\n",
       "      <td>19-Oct-2011</td>\n",
       "      <td>673.80</td>\n",
       "      <td>673.95</td>\n",
       "    </tr>\n",
       "    <tr>\n",
       "      <th>4</th>\n",
       "      <td>20-Oct-2011</td>\n",
       "      <td>673.95</td>\n",
       "      <td>644.95</td>\n",
       "    </tr>\n",
       "    <tr>\n",
       "      <th>6</th>\n",
       "      <td>21-Oct-2011</td>\n",
       "      <td>644.95</td>\n",
       "      <td>633.40</td>\n",
       "    </tr>\n",
       "    <tr>\n",
       "      <th>8</th>\n",
       "      <td>24-Oct-2011</td>\n",
       "      <td>633.40</td>\n",
       "      <td>640.50</td>\n",
       "    </tr>\n",
       "  </tbody>\n",
       "</table>\n",
       "</div>"
      ],
      "text/plain": [
       "          Date  Prev Close  Close Price\n",
       "0  18-Oct-2011      673.45       673.80\n",
       "2  19-Oct-2011      673.80       673.95\n",
       "4  20-Oct-2011      673.95       644.95\n",
       "6  21-Oct-2011      644.95       633.40\n",
       "8  24-Oct-2011      633.40       640.50"
      ]
     },
     "execution_count": 19,
     "metadata": {},
     "output_type": "execute_result"
    }
   ],
   "source": [
    "hdfc_data.head()"
   ]
  },
  {
   "cell_type": "code",
   "execution_count": 20,
   "metadata": {},
   "outputs": [
    {
     "data": {
      "text/html": [
       "<div>\n",
       "<style scoped>\n",
       "    .dataframe tbody tr th:only-of-type {\n",
       "        vertical-align: middle;\n",
       "    }\n",
       "\n",
       "    .dataframe tbody tr th {\n",
       "        vertical-align: top;\n",
       "    }\n",
       "\n",
       "    .dataframe thead th {\n",
       "        text-align: right;\n",
       "    }\n",
       "</style>\n",
       "<table border=\"1\" class=\"dataframe\">\n",
       "  <thead>\n",
       "    <tr style=\"text-align: right;\">\n",
       "      <th></th>\n",
       "      <th>Prev Close</th>\n",
       "      <th>Close Price</th>\n",
       "    </tr>\n",
       "  </thead>\n",
       "  <tbody>\n",
       "    <tr>\n",
       "      <th>count</th>\n",
       "      <td>2477.000000</td>\n",
       "      <td>2477.000000</td>\n",
       "    </tr>\n",
       "    <tr>\n",
       "      <th>mean</th>\n",
       "      <td>1469.635103</td>\n",
       "      <td>1470.500020</td>\n",
       "    </tr>\n",
       "    <tr>\n",
       "      <th>std</th>\n",
       "      <td>593.128705</td>\n",
       "      <td>593.518625</td>\n",
       "    </tr>\n",
       "    <tr>\n",
       "      <th>min</th>\n",
       "      <td>613.750000</td>\n",
       "      <td>613.750000</td>\n",
       "    </tr>\n",
       "    <tr>\n",
       "      <th>25%</th>\n",
       "      <td>889.650000</td>\n",
       "      <td>890.150000</td>\n",
       "    </tr>\n",
       "    <tr>\n",
       "      <th>50%</th>\n",
       "      <td>1347.400000</td>\n",
       "      <td>1348.450000</td>\n",
       "    </tr>\n",
       "    <tr>\n",
       "      <th>75%</th>\n",
       "      <td>1904.100000</td>\n",
       "      <td>1904.850000</td>\n",
       "    </tr>\n",
       "    <tr>\n",
       "      <th>max</th>\n",
       "      <td>2860.450000</td>\n",
       "      <td>2860.450000</td>\n",
       "    </tr>\n",
       "  </tbody>\n",
       "</table>\n",
       "</div>"
      ],
      "text/plain": [
       "        Prev Close  Close Price\n",
       "count  2477.000000  2477.000000\n",
       "mean   1469.635103  1470.500020\n",
       "std     593.128705   593.518625\n",
       "min     613.750000   613.750000\n",
       "25%     889.650000   890.150000\n",
       "50%    1347.400000  1348.450000\n",
       "75%    1904.100000  1904.850000\n",
       "max    2860.450000  2860.450000"
      ]
     },
     "execution_count": 20,
     "metadata": {},
     "output_type": "execute_result"
    }
   ],
   "source": [
    "hdfc_data.describe()"
   ]
  },
  {
   "cell_type": "code",
   "execution_count": 21,
   "metadata": {},
   "outputs": [],
   "source": [
    "hdfc_data['Date'] = pd.to_datetime(hdfc_data['Date'])"
   ]
  },
  {
   "cell_type": "code",
   "execution_count": 22,
   "metadata": {},
   "outputs": [
    {
     "data": {
      "text/html": [
       "<div>\n",
       "<style scoped>\n",
       "    .dataframe tbody tr th:only-of-type {\n",
       "        vertical-align: middle;\n",
       "    }\n",
       "\n",
       "    .dataframe tbody tr th {\n",
       "        vertical-align: top;\n",
       "    }\n",
       "\n",
       "    .dataframe thead th {\n",
       "        text-align: right;\n",
       "    }\n",
       "</style>\n",
       "<table border=\"1\" class=\"dataframe\">\n",
       "  <thead>\n",
       "    <tr style=\"text-align: right;\">\n",
       "      <th></th>\n",
       "      <th>Date</th>\n",
       "      <th>Prev Close</th>\n",
       "      <th>Close Price</th>\n",
       "    </tr>\n",
       "  </thead>\n",
       "  <tbody>\n",
       "    <tr>\n",
       "      <th>0</th>\n",
       "      <td>2011-10-18</td>\n",
       "      <td>673.45</td>\n",
       "      <td>673.80</td>\n",
       "    </tr>\n",
       "    <tr>\n",
       "      <th>2</th>\n",
       "      <td>2011-10-19</td>\n",
       "      <td>673.80</td>\n",
       "      <td>673.95</td>\n",
       "    </tr>\n",
       "    <tr>\n",
       "      <th>4</th>\n",
       "      <td>2011-10-20</td>\n",
       "      <td>673.95</td>\n",
       "      <td>644.95</td>\n",
       "    </tr>\n",
       "    <tr>\n",
       "      <th>6</th>\n",
       "      <td>2011-10-21</td>\n",
       "      <td>644.95</td>\n",
       "      <td>633.40</td>\n",
       "    </tr>\n",
       "    <tr>\n",
       "      <th>8</th>\n",
       "      <td>2011-10-24</td>\n",
       "      <td>633.40</td>\n",
       "      <td>640.50</td>\n",
       "    </tr>\n",
       "  </tbody>\n",
       "</table>\n",
       "</div>"
      ],
      "text/plain": [
       "        Date  Prev Close  Close Price\n",
       "0 2011-10-18      673.45       673.80\n",
       "2 2011-10-19      673.80       673.95\n",
       "4 2011-10-20      673.95       644.95\n",
       "6 2011-10-21      644.95       633.40\n",
       "8 2011-10-24      633.40       640.50"
      ]
     },
     "execution_count": 22,
     "metadata": {},
     "output_type": "execute_result"
    }
   ],
   "source": [
    "hdfc_data.head()"
   ]
  },
  {
   "cell_type": "code",
   "execution_count": 23,
   "metadata": {},
   "outputs": [],
   "source": [
    "hdfc_data.sort_values(by = 'Date', ascending = True, inplace = True)"
   ]
  },
  {
   "cell_type": "code",
   "execution_count": 24,
   "metadata": {},
   "outputs": [],
   "source": [
    "hdfc_data.set_index('Date', inplace = True)"
   ]
  },
  {
   "cell_type": "code",
   "execution_count": 25,
   "metadata": {},
   "outputs": [
    {
     "data": {
      "text/html": [
       "<div>\n",
       "<style scoped>\n",
       "    .dataframe tbody tr th:only-of-type {\n",
       "        vertical-align: middle;\n",
       "    }\n",
       "\n",
       "    .dataframe tbody tr th {\n",
       "        vertical-align: top;\n",
       "    }\n",
       "\n",
       "    .dataframe thead th {\n",
       "        text-align: right;\n",
       "    }\n",
       "</style>\n",
       "<table border=\"1\" class=\"dataframe\">\n",
       "  <thead>\n",
       "    <tr style=\"text-align: right;\">\n",
       "      <th></th>\n",
       "      <th>Prev Close</th>\n",
       "      <th>Close Price</th>\n",
       "    </tr>\n",
       "    <tr>\n",
       "      <th>Date</th>\n",
       "      <th></th>\n",
       "      <th></th>\n",
       "    </tr>\n",
       "  </thead>\n",
       "  <tbody>\n",
       "    <tr>\n",
       "      <th>2011-10-18</th>\n",
       "      <td>673.45</td>\n",
       "      <td>673.80</td>\n",
       "    </tr>\n",
       "    <tr>\n",
       "      <th>2011-10-19</th>\n",
       "      <td>673.80</td>\n",
       "      <td>673.95</td>\n",
       "    </tr>\n",
       "    <tr>\n",
       "      <th>2011-10-20</th>\n",
       "      <td>673.95</td>\n",
       "      <td>644.95</td>\n",
       "    </tr>\n",
       "    <tr>\n",
       "      <th>2011-10-21</th>\n",
       "      <td>644.95</td>\n",
       "      <td>633.40</td>\n",
       "    </tr>\n",
       "    <tr>\n",
       "      <th>2011-10-24</th>\n",
       "      <td>633.40</td>\n",
       "      <td>640.50</td>\n",
       "    </tr>\n",
       "  </tbody>\n",
       "</table>\n",
       "</div>"
      ],
      "text/plain": [
       "            Prev Close  Close Price\n",
       "Date                               \n",
       "2011-10-18      673.45       673.80\n",
       "2011-10-19      673.80       673.95\n",
       "2011-10-20      673.95       644.95\n",
       "2011-10-21      644.95       633.40\n",
       "2011-10-24      633.40       640.50"
      ]
     },
     "execution_count": 25,
     "metadata": {},
     "output_type": "execute_result"
    }
   ],
   "source": [
    "hdfc_data.head()"
   ]
  },
  {
   "cell_type": "code",
   "execution_count": 26,
   "metadata": {},
   "outputs": [],
   "source": [
    "# Finding the daily returns"
   ]
  },
  {
   "cell_type": "code",
   "execution_count": 27,
   "metadata": {},
   "outputs": [],
   "source": [
    "hdfc_data['Daily_returns'] = (100 * (np.log(hdfc_data['Close Price']/hdfc_data['Prev Close']))).round(decimals = 2)"
   ]
  },
  {
   "cell_type": "code",
   "execution_count": 28,
   "metadata": {},
   "outputs": [
    {
     "data": {
      "text/html": [
       "<div>\n",
       "<style scoped>\n",
       "    .dataframe tbody tr th:only-of-type {\n",
       "        vertical-align: middle;\n",
       "    }\n",
       "\n",
       "    .dataframe tbody tr th {\n",
       "        vertical-align: top;\n",
       "    }\n",
       "\n",
       "    .dataframe thead th {\n",
       "        text-align: right;\n",
       "    }\n",
       "</style>\n",
       "<table border=\"1\" class=\"dataframe\">\n",
       "  <thead>\n",
       "    <tr style=\"text-align: right;\">\n",
       "      <th></th>\n",
       "      <th>Prev Close</th>\n",
       "      <th>Close Price</th>\n",
       "      <th>Daily_returns</th>\n",
       "    </tr>\n",
       "    <tr>\n",
       "      <th>Date</th>\n",
       "      <th></th>\n",
       "      <th></th>\n",
       "      <th></th>\n",
       "    </tr>\n",
       "  </thead>\n",
       "  <tbody>\n",
       "    <tr>\n",
       "      <th>2011-10-18</th>\n",
       "      <td>673.45</td>\n",
       "      <td>673.80</td>\n",
       "      <td>0.05</td>\n",
       "    </tr>\n",
       "    <tr>\n",
       "      <th>2011-10-19</th>\n",
       "      <td>673.80</td>\n",
       "      <td>673.95</td>\n",
       "      <td>0.02</td>\n",
       "    </tr>\n",
       "    <tr>\n",
       "      <th>2011-10-20</th>\n",
       "      <td>673.95</td>\n",
       "      <td>644.95</td>\n",
       "      <td>-4.40</td>\n",
       "    </tr>\n",
       "    <tr>\n",
       "      <th>2011-10-21</th>\n",
       "      <td>644.95</td>\n",
       "      <td>633.40</td>\n",
       "      <td>-1.81</td>\n",
       "    </tr>\n",
       "    <tr>\n",
       "      <th>2011-10-24</th>\n",
       "      <td>633.40</td>\n",
       "      <td>640.50</td>\n",
       "      <td>1.11</td>\n",
       "    </tr>\n",
       "  </tbody>\n",
       "</table>\n",
       "</div>"
      ],
      "text/plain": [
       "            Prev Close  Close Price  Daily_returns\n",
       "Date                                              \n",
       "2011-10-18      673.45       673.80           0.05\n",
       "2011-10-19      673.80       673.95           0.02\n",
       "2011-10-20      673.95       644.95          -4.40\n",
       "2011-10-21      644.95       633.40          -1.81\n",
       "2011-10-24      633.40       640.50           1.11"
      ]
     },
     "execution_count": 28,
     "metadata": {},
     "output_type": "execute_result"
    }
   ],
   "source": [
    "hdfc_data.head()"
   ]
  },
  {
   "cell_type": "code",
   "execution_count": 29,
   "metadata": {},
   "outputs": [],
   "source": [
    "# Now finding Market Capitalization in billions"
   ]
  },
  {
   "cell_type": "code",
   "execution_count": 30,
   "metadata": {},
   "outputs": [],
   "source": [
    "hdfc_data['Market Cap in bn Rs'] = hdfc_data['Close Price'] * 5.5"
   ]
  },
  {
   "cell_type": "code",
   "execution_count": 31,
   "metadata": {},
   "outputs": [
    {
     "data": {
      "text/html": [
       "<div>\n",
       "<style scoped>\n",
       "    .dataframe tbody tr th:only-of-type {\n",
       "        vertical-align: middle;\n",
       "    }\n",
       "\n",
       "    .dataframe tbody tr th {\n",
       "        vertical-align: top;\n",
       "    }\n",
       "\n",
       "    .dataframe thead th {\n",
       "        text-align: right;\n",
       "    }\n",
       "</style>\n",
       "<table border=\"1\" class=\"dataframe\">\n",
       "  <thead>\n",
       "    <tr style=\"text-align: right;\">\n",
       "      <th></th>\n",
       "      <th>Prev Close</th>\n",
       "      <th>Close Price</th>\n",
       "      <th>Daily_returns</th>\n",
       "      <th>Market Cap in bn Rs</th>\n",
       "    </tr>\n",
       "    <tr>\n",
       "      <th>Date</th>\n",
       "      <th></th>\n",
       "      <th></th>\n",
       "      <th></th>\n",
       "      <th></th>\n",
       "    </tr>\n",
       "  </thead>\n",
       "  <tbody>\n",
       "    <tr>\n",
       "      <th>2011-10-18</th>\n",
       "      <td>673.45</td>\n",
       "      <td>673.80</td>\n",
       "      <td>0.05</td>\n",
       "      <td>3705.900</td>\n",
       "    </tr>\n",
       "    <tr>\n",
       "      <th>2011-10-19</th>\n",
       "      <td>673.80</td>\n",
       "      <td>673.95</td>\n",
       "      <td>0.02</td>\n",
       "      <td>3706.725</td>\n",
       "    </tr>\n",
       "    <tr>\n",
       "      <th>2011-10-20</th>\n",
       "      <td>673.95</td>\n",
       "      <td>644.95</td>\n",
       "      <td>-4.40</td>\n",
       "      <td>3547.225</td>\n",
       "    </tr>\n",
       "    <tr>\n",
       "      <th>2011-10-21</th>\n",
       "      <td>644.95</td>\n",
       "      <td>633.40</td>\n",
       "      <td>-1.81</td>\n",
       "      <td>3483.700</td>\n",
       "    </tr>\n",
       "    <tr>\n",
       "      <th>2011-10-24</th>\n",
       "      <td>633.40</td>\n",
       "      <td>640.50</td>\n",
       "      <td>1.11</td>\n",
       "      <td>3522.750</td>\n",
       "    </tr>\n",
       "  </tbody>\n",
       "</table>\n",
       "</div>"
      ],
      "text/plain": [
       "            Prev Close  Close Price  Daily_returns  Market Cap in bn Rs\n",
       "Date                                                                   \n",
       "2011-10-18      673.45       673.80           0.05             3705.900\n",
       "2011-10-19      673.80       673.95           0.02             3706.725\n",
       "2011-10-20      673.95       644.95          -4.40             3547.225\n",
       "2011-10-21      644.95       633.40          -1.81             3483.700\n",
       "2011-10-24      633.40       640.50           1.11             3522.750"
      ]
     },
     "execution_count": 31,
     "metadata": {},
     "output_type": "execute_result"
    }
   ],
   "source": [
    "hdfc_data.head()"
   ]
  },
  {
   "cell_type": "code",
   "execution_count": 32,
   "metadata": {},
   "outputs": [],
   "source": [
    "# Time Series PLot of Close Price"
   ]
  },
  {
   "cell_type": "code",
   "execution_count": 36,
   "metadata": {},
   "outputs": [
    {
     "data": {
      "text/plain": [
       "Text(0, 0.5, 'Close price')"
      ]
     },
     "execution_count": 36,
     "metadata": {},
     "output_type": "execute_result"
    },
    {
     "data": {
      "image/png": "[encoded data removed]",
      "text/plain": [
       "<Figure size 864x432 with 1 Axes>"
      ]
     },
     "metadata": {
      "needs_background": "light"
     },
     "output_type": "display_data"
    }
   ],
   "source": [
    "fig = plt.figure(figsize = (12,6))\n",
    "plt.plot(hdfc_data.index,hdfc_data['Close Price'], color = 'red')\n",
    "fig.suptitle('HDFC Daily close price trend for past 10 years')\n",
    "plt.xlabel('DATE')\n",
    "plt.ylabel('Close price')"
   ]
  },
  {
   "cell_type": "code",
   "execution_count": 37,
   "metadata": {},
   "outputs": [],
   "source": [
    "# Time Series Plot of Daily returns"
   ]
  },
  {
   "cell_type": "code",
   "execution_count": 39,
   "metadata": {},
   "outputs": [
    {
     "data": {
      "text/plain": [
       "Text(0, 0.5, 'Daily returns')"
      ]
     },
     "execution_count": 39,
     "metadata": {},
     "output_type": "execute_result"
    },
    {
     "data": {
      "image/png": "[encoded data removed]",
      "text/plain": [
       "<Figure size 864x432 with 1 Axes>"
      ]
     },
     "metadata": {
      "needs_background": "light"
     },
     "output_type": "display_data"
    }
   ],
   "source": [
    "fig = plt.figure(figsize = (12,6))\n",
    "plt.plot(hdfc_data.index,hdfc_data['Daily_returns'], color = 'blue')\n",
    "fig.suptitle('HDFC Daily daily returns trend for past 10 years')\n",
    "plt.xlabel('DATE')\n",
    "plt.ylabel('Daily returns')"
   ]
  },
  {
   "cell_type": "code",
   "execution_count": 40,
   "metadata": {},
   "outputs": [],
   "source": [
    "# TO CHECK IF THE RETURNS ARE IID THAT IS INDEPENDENT AND IDENTICALLY DISTRIBUTED"
   ]
  },
  {
   "cell_type": "markdown",
   "metadata": {},
   "source": [
    "As, we can see that the data points of daily return trend are scattered about the average (mean/median/mode) of the data. \n",
    "These data points have a constant degree of vertical dispersion. So, the return id IID."
   ]
  },
  {
   "cell_type": "code",
   "execution_count": 41,
   "metadata": {},
   "outputs": [],
   "source": [
    "# SUMMARY STATISTICS"
   ]
  },
  {
   "cell_type": "code",
   "execution_count": 42,
   "metadata": {},
   "outputs": [
    {
     "data": {
      "text/html": [
       "<div>\n",
       "<style scoped>\n",
       "    .dataframe tbody tr th:only-of-type {\n",
       "        vertical-align: middle;\n",
       "    }\n",
       "\n",
       "    .dataframe tbody tr th {\n",
       "        vertical-align: top;\n",
       "    }\n",
       "\n",
       "    .dataframe thead th {\n",
       "        text-align: right;\n",
       "    }\n",
       "</style>\n",
       "<table border=\"1\" class=\"dataframe\">\n",
       "  <thead>\n",
       "    <tr style=\"text-align: right;\">\n",
       "      <th></th>\n",
       "      <th>Prev Close</th>\n",
       "      <th>Close Price</th>\n",
       "      <th>Daily_returns</th>\n",
       "      <th>Market Cap in bn Rs</th>\n",
       "    </tr>\n",
       "  </thead>\n",
       "  <tbody>\n",
       "    <tr>\n",
       "      <th>count</th>\n",
       "      <td>2477.000000</td>\n",
       "      <td>2477.000000</td>\n",
       "      <td>2477.000000</td>\n",
       "      <td>2477.000000</td>\n",
       "    </tr>\n",
       "    <tr>\n",
       "      <th>mean</th>\n",
       "      <td>1469.635103</td>\n",
       "      <td>1470.500020</td>\n",
       "      <td>0.058034</td>\n",
       "      <td>8087.750111</td>\n",
       "    </tr>\n",
       "    <tr>\n",
       "      <th>std</th>\n",
       "      <td>593.128705</td>\n",
       "      <td>593.518625</td>\n",
       "      <td>1.819276</td>\n",
       "      <td>3264.352439</td>\n",
       "    </tr>\n",
       "    <tr>\n",
       "      <th>min</th>\n",
       "      <td>613.750000</td>\n",
       "      <td>613.750000</td>\n",
       "      <td>-14.270000</td>\n",
       "      <td>3375.625000</td>\n",
       "    </tr>\n",
       "    <tr>\n",
       "      <th>25%</th>\n",
       "      <td>889.650000</td>\n",
       "      <td>890.150000</td>\n",
       "      <td>-0.920000</td>\n",
       "      <td>4895.825000</td>\n",
       "    </tr>\n",
       "    <tr>\n",
       "      <th>50%</th>\n",
       "      <td>1347.400000</td>\n",
       "      <td>1348.450000</td>\n",
       "      <td>0.030000</td>\n",
       "      <td>7416.475000</td>\n",
       "    </tr>\n",
       "    <tr>\n",
       "      <th>75%</th>\n",
       "      <td>1904.100000</td>\n",
       "      <td>1904.850000</td>\n",
       "      <td>1.040000</td>\n",
       "      <td>10476.675000</td>\n",
       "    </tr>\n",
       "    <tr>\n",
       "      <th>max</th>\n",
       "      <td>2860.450000</td>\n",
       "      <td>2860.450000</td>\n",
       "      <td>9.700000</td>\n",
       "      <td>15732.475000</td>\n",
       "    </tr>\n",
       "  </tbody>\n",
       "</table>\n",
       "</div>"
      ],
      "text/plain": [
       "        Prev Close  Close Price  Daily_returns  Market Cap in bn Rs\n",
       "count  2477.000000  2477.000000    2477.000000          2477.000000\n",
       "mean   1469.635103  1470.500020       0.058034          8087.750111\n",
       "std     593.128705   593.518625       1.819276          3264.352439\n",
       "min     613.750000   613.750000     -14.270000          3375.625000\n",
       "25%     889.650000   890.150000      -0.920000          4895.825000\n",
       "50%    1347.400000  1348.450000       0.030000          7416.475000\n",
       "75%    1904.100000  1904.850000       1.040000         10476.675000\n",
       "max    2860.450000  2860.450000       9.700000         15732.475000"
      ]
     },
     "execution_count": 42,
     "metadata": {},
     "output_type": "execute_result"
    }
   ],
   "source": [
    "hdfc_data.describe()"
   ]
  },
  {
   "cell_type": "code",
   "execution_count": 44,
   "metadata": {},
   "outputs": [
    {
     "name": "stdout",
     "output_type": "stream",
     "text": [
      "Kurtosis of  Prev Close -0.9075722272352844 .\n",
      "Skewness of  Prev Close 0.3797735364337652 .\n",
      "Kurtosis of  Close Price -0.9061868948913832 .\n",
      "Skewness of  Close Price 0.3802962073831748 .\n",
      "Kurtosis of  Daily_returns 5.5113784218183 .\n",
      "Skewness of  Daily_returns -0.2505008243317123 .\n",
      "Kurtosis of  Market Cap in bn Rs -0.9061868948913827 .\n",
      "Skewness of  Market Cap in bn Rs 0.38029620738317566 .\n"
     ]
    }
   ],
   "source": [
    "for column in hdfc_data.columns:\n",
    "    print('Kurtosis of ', column,kurtosis(hdfc_data[column]),'.')\n",
    "    print('Skewness of ',column,skew(hdfc_data[column]),'.')"
   ]
  },
  {
   "cell_type": "code",
   "execution_count": 45,
   "metadata": {},
   "outputs": [],
   "source": [
    "# SUMMARY STATISTICS FOR LAST FIVE YEARS"
   ]
  },
  {
   "cell_type": "code",
   "execution_count": 46,
   "metadata": {},
   "outputs": [],
   "source": [
    "IND = hdfc_data.index > '2016-10-18'"
   ]
  },
  {
   "cell_type": "code",
   "execution_count": 47,
   "metadata": {},
   "outputs": [],
   "source": [
    "hdfc_data_five_year = hdfc_data[IND]"
   ]
  },
  {
   "cell_type": "code",
   "execution_count": 48,
   "metadata": {},
   "outputs": [
    {
     "data": {
      "text/html": [
       "<div>\n",
       "<style scoped>\n",
       "    .dataframe tbody tr th:only-of-type {\n",
       "        vertical-align: middle;\n",
       "    }\n",
       "\n",
       "    .dataframe tbody tr th {\n",
       "        vertical-align: top;\n",
       "    }\n",
       "\n",
       "    .dataframe thead th {\n",
       "        text-align: right;\n",
       "    }\n",
       "</style>\n",
       "<table border=\"1\" class=\"dataframe\">\n",
       "  <thead>\n",
       "    <tr style=\"text-align: right;\">\n",
       "      <th></th>\n",
       "      <th>Prev Close</th>\n",
       "      <th>Close Price</th>\n",
       "      <th>Daily_returns</th>\n",
       "      <th>Market Cap in bn Rs</th>\n",
       "    </tr>\n",
       "    <tr>\n",
       "      <th>Date</th>\n",
       "      <th></th>\n",
       "      <th></th>\n",
       "      <th></th>\n",
       "      <th></th>\n",
       "    </tr>\n",
       "  </thead>\n",
       "  <tbody>\n",
       "    <tr>\n",
       "      <th>2016-10-19</th>\n",
       "      <td>1355.25</td>\n",
       "      <td>1342.15</td>\n",
       "      <td>-0.97</td>\n",
       "      <td>7381.825</td>\n",
       "    </tr>\n",
       "    <tr>\n",
       "      <th>2016-10-20</th>\n",
       "      <td>1342.15</td>\n",
       "      <td>1359.95</td>\n",
       "      <td>1.32</td>\n",
       "      <td>7479.725</td>\n",
       "    </tr>\n",
       "    <tr>\n",
       "      <th>2016-10-21</th>\n",
       "      <td>1359.95</td>\n",
       "      <td>1336.55</td>\n",
       "      <td>-1.74</td>\n",
       "      <td>7351.025</td>\n",
       "    </tr>\n",
       "    <tr>\n",
       "      <th>2016-10-24</th>\n",
       "      <td>1336.55</td>\n",
       "      <td>1344.00</td>\n",
       "      <td>0.56</td>\n",
       "      <td>7392.000</td>\n",
       "    </tr>\n",
       "    <tr>\n",
       "      <th>2016-10-25</th>\n",
       "      <td>1344.00</td>\n",
       "      <td>1340.10</td>\n",
       "      <td>-0.29</td>\n",
       "      <td>7370.550</td>\n",
       "    </tr>\n",
       "  </tbody>\n",
       "</table>\n",
       "</div>"
      ],
      "text/plain": [
       "            Prev Close  Close Price  Daily_returns  Market Cap in bn Rs\n",
       "Date                                                                   \n",
       "2016-10-19     1355.25      1342.15          -0.97             7381.825\n",
       "2016-10-20     1342.15      1359.95           1.32             7479.725\n",
       "2016-10-21     1359.95      1336.55          -1.74             7351.025\n",
       "2016-10-24     1336.55      1344.00           0.56             7392.000\n",
       "2016-10-25     1344.00      1340.10          -0.29             7370.550"
      ]
     },
     "execution_count": 48,
     "metadata": {},
     "output_type": "execute_result"
    }
   ],
   "source": [
    "hdfc_data_five_year.head()"
   ]
  },
  {
   "cell_type": "code",
   "execution_count": 49,
   "metadata": {},
   "outputs": [
    {
     "data": {
      "text/html": [
       "<div>\n",
       "<style scoped>\n",
       "    .dataframe tbody tr th:only-of-type {\n",
       "        vertical-align: middle;\n",
       "    }\n",
       "\n",
       "    .dataframe tbody tr th {\n",
       "        vertical-align: top;\n",
       "    }\n",
       "\n",
       "    .dataframe thead th {\n",
       "        text-align: right;\n",
       "    }\n",
       "</style>\n",
       "<table border=\"1\" class=\"dataframe\">\n",
       "  <thead>\n",
       "    <tr style=\"text-align: right;\">\n",
       "      <th></th>\n",
       "      <th>Prev Close</th>\n",
       "      <th>Close Price</th>\n",
       "      <th>Daily_returns</th>\n",
       "      <th>Market Cap in bn Rs</th>\n",
       "    </tr>\n",
       "  </thead>\n",
       "  <tbody>\n",
       "    <tr>\n",
       "      <th>count</th>\n",
       "      <td>1238.000000</td>\n",
       "      <td>1238.000000</td>\n",
       "      <td>1238.000000</td>\n",
       "      <td>1238.000000</td>\n",
       "    </tr>\n",
       "    <tr>\n",
       "      <th>mean</th>\n",
       "      <td>1969.754241</td>\n",
       "      <td>1970.928312</td>\n",
       "      <td>0.058861</td>\n",
       "      <td>10840.105715</td>\n",
       "    </tr>\n",
       "    <tr>\n",
       "      <th>std</th>\n",
       "      <td>384.254409</td>\n",
       "      <td>384.595701</td>\n",
       "      <td>1.920220</td>\n",
       "      <td>2115.276357</td>\n",
       "    </tr>\n",
       "    <tr>\n",
       "      <th>min</th>\n",
       "      <td>1212.100000</td>\n",
       "      <td>1212.100000</td>\n",
       "      <td>-14.270000</td>\n",
       "      <td>6666.550000</td>\n",
       "    </tr>\n",
       "    <tr>\n",
       "      <th>25%</th>\n",
       "      <td>1727.725000</td>\n",
       "      <td>1727.900000</td>\n",
       "      <td>-0.897500</td>\n",
       "      <td>9503.450000</td>\n",
       "    </tr>\n",
       "    <tr>\n",
       "      <th>50%</th>\n",
       "      <td>1904.475000</td>\n",
       "      <td>1904.875000</td>\n",
       "      <td>0.045000</td>\n",
       "      <td>10476.812500</td>\n",
       "    </tr>\n",
       "    <tr>\n",
       "      <th>75%</th>\n",
       "      <td>2238.125000</td>\n",
       "      <td>2244.025000</td>\n",
       "      <td>0.990000</td>\n",
       "      <td>12342.137500</td>\n",
       "    </tr>\n",
       "    <tr>\n",
       "      <th>max</th>\n",
       "      <td>2860.450000</td>\n",
       "      <td>2860.450000</td>\n",
       "      <td>9.700000</td>\n",
       "      <td>15732.475000</td>\n",
       "    </tr>\n",
       "  </tbody>\n",
       "</table>\n",
       "</div>"
      ],
      "text/plain": [
       "        Prev Close  Close Price  Daily_returns  Market Cap in bn Rs\n",
       "count  1238.000000  1238.000000    1238.000000          1238.000000\n",
       "mean   1969.754241  1970.928312       0.058861         10840.105715\n",
       "std     384.254409   384.595701       1.920220          2115.276357\n",
       "min    1212.100000  1212.100000     -14.270000          6666.550000\n",
       "25%    1727.725000  1727.900000      -0.897500          9503.450000\n",
       "50%    1904.475000  1904.875000       0.045000         10476.812500\n",
       "75%    2238.125000  2244.025000       0.990000         12342.137500\n",
       "max    2860.450000  2860.450000       9.700000         15732.475000"
      ]
     },
     "execution_count": 49,
     "metadata": {},
     "output_type": "execute_result"
    }
   ],
   "source": [
    "hdfc_data_five_year.describe()"
   ]
  },
  {
   "cell_type": "code",
   "execution_count": 50,
   "metadata": {},
   "outputs": [
    {
     "name": "stdout",
     "output_type": "stream",
     "text": [
      "Kurtosis of  Prev Close -0.9075722272352844 .\n",
      "Skewness of  Prev Close 0.3797735364337652 .\n",
      "Kurtosis of  Close Price -0.9061868948913832 .\n",
      "Skewness of  Close Price 0.3802962073831748 .\n",
      "Kurtosis of  Daily_returns 5.5113784218183 .\n",
      "Skewness of  Daily_returns -0.2505008243317123 .\n",
      "Kurtosis of  Market Cap in bn Rs -0.9061868948913827 .\n",
      "Skewness of  Market Cap in bn Rs 0.38029620738317566 .\n"
     ]
    }
   ],
   "source": [
    "for column in hdfc_data_five_year.columns:\n",
    "    print('Kurtosis of ', column,kurtosis(hdfc_data[column]),'.')\n",
    "    print('Skewness of ',column,skew(hdfc_data[column]),'.')"
   ]
  },
  {
   "cell_type": "code",
   "execution_count": null,
   "metadata": {},
   "outputs": [],
   "source": []
  }
 ],
 "metadata": {
  "kernelspec": {
   "display_name": "Python 3",
   "language": "python",
   "name": "python3"
  },
  "language_info": {
   "codemirror_mode": {
    "name": "ipython",
    "version": 3
   },
   "file_extension": ".py",
   "mimetype": "text/x-python",
   "name": "python",
   "nbconvert_exporter": "python",
   "pygments_lexer": "ipython3",
   "version": "3.8.3"
  }
 },
 "nbformat": 4,
 "nbformat_minor": 4
}
